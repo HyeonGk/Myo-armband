{
 "cells": [
  {
   "cell_type": "code",
   "execution_count": 29,
   "id": "e0cf6ee0-7e24-4852-8046-35d22039b5cf",
   "metadata": {},
   "outputs": [],
   "source": [
    "import os\n",
    "import numpy as np\n",
    "from sklearn.model_selection import train_test_split\n",
    "from tensorflow.keras import layers, models\n",
    "from tensorflow.keras.callbacks import ModelCheckpoint\n",
    "import joblib\n",
    "from sklearn.preprocessing import MinMaxScaler"
   ]
  },
  {
   "cell_type": "code",
   "execution_count": 31,
   "id": "89fd695e-11fd-40f3-b927-e13e0fbc93e2",
   "metadata": {},
   "outputs": [],
   "source": [
    "# Step 1: 손동작과 레이블 매핑\n",
    "gesture_to_label = {\n",
    "    'back': 0, 'space': 1, 'neutral': 2, 'ja1': 3, 'mo1': 4,\n",
    "    'ja2': 5, 'mo2': 6, 'ja3': 7, 'ja4': 8, 'ja5': 9, 'ja6': 10, 'mo3': 11\n",
    "}"
   ]
  },
  {
   "cell_type": "code",
   "execution_count": 33,
   "id": "c1c83393-3d2a-4743-8d3a-a1161469f38f",
   "metadata": {},
   "outputs": [],
   "source": [
    "# Step 2: 시간축 데이터 생성 함수\n",
    "def create_time_series_data(rms_data, time_steps):\n",
    "    \"\"\"\n",
    "    RMS 데이터에서 시간축(Time Steps) 데이터를 생성.\n",
    "    \"\"\"\n",
    "    time_series_data = []\n",
    "    for i in range(len(rms_data) - time_steps + 1):\n",
    "        window = rms_data[i:i+time_steps]  # 연속된 time_steps 개의 RMS 값 선택\n",
    "        time_series_data.append(window)\n",
    "    return np.array(time_series_data)"
   ]
  },
  {
   "cell_type": "code",
   "execution_count": 35,
   "id": "56462ba7-b7f2-4821-94bd-11771f03b888",
   "metadata": {},
   "outputs": [],
   "source": [
    "# Step 3: 단일 파일에서 데이터 로드 및 시간축 생성\n",
    "def load_data_from_file(file_path, label, time_steps):\n",
    "    \"\"\"\n",
    "    단일 txt 파일에서 데이터를 로드하여 시간축 데이터를 생성.\n",
    "    \"\"\"\n",
    "    # txt 파일에서 데이터 로드\n",
    "    rms_data = np.loadtxt(file_path, delimiter=',')  # RMS 값이 이미 계산된 데이터\n",
    "    \n",
    "    # 시간축 데이터 생성\n",
    "    time_series_data = create_time_series_data(rms_data, time_steps)\n",
    "    \n",
    "    # 레이블 추가\n",
    "    labels = np.full((time_series_data.shape[0],), label)\n",
    "    return time_series_data, labels"
   ]
  },
  {
   "cell_type": "code",
   "execution_count": 37,
   "id": "ac2df0e2-eac2-4b7a-abac-ab22b2486099",
   "metadata": {},
   "outputs": [],
   "source": [
    "# Step 4: 데이터셋 로드 및 scaler 저장\n",
    "def load_and_save_dataset(data_dir, time_steps, scaler_path):\n",
    "    \"\"\"\n",
    "    데이터 디렉토리에서 모든 txt 파일 로드 및 정규화 후 scaler 저장.\n",
    "    \"\"\"\n",
    "    X = []\n",
    "    y = []\n",
    "\n",
    "    for file_name in os.listdir(data_dir):\n",
    "        if file_name.endswith(\".txt\"):\n",
    "            file_path = os.path.join(data_dir, file_name)\n",
    "            try:\n",
    "                # 파일 이름에서 제스처 추출\n",
    "                parts = os.path.splitext(file_name)[0].split('_')  # 파일명 분리\n",
    "                if len(parts) < 2:\n",
    "                    print(f\"Skipping file with invalid name format: {file_name}\")\n",
    "                    continue\n",
    "                \n",
    "                # `1_ja` 형태를 `ja1`로 변환\n",
    "                if len(parts) == 2 and parts[1].startswith('ja'):\n",
    "                    gesture = f\"ja{parts[0][-1]}\"  # '1_ja' → 'ja1'\n",
    "                elif len(parts) == 2 and parts[1].startswith('mo'):\n",
    "                    gesture = f\"mo{parts[0][-1]}\"  # '2_mo' → 'mo2'\n",
    "                else:\n",
    "                    gesture = parts[1]  # 'back', 'space', 'neutral' 같은 단일 제스처 처리\n",
    "                \n",
    "                label = gesture_to_label.get(gesture)\n",
    "                if label is None:\n",
    "                    print(f\"Skipping file with unknown gesture: {file_name}\")\n",
    "                    continue\n",
    "\n",
    "                # 파일에서 데이터 로드\n",
    "                time_series_data, labels = load_data_from_file(file_path, label, time_steps)\n",
    "                \n",
    "                # 병합\n",
    "                X.append(time_series_data)\n",
    "                y.append(labels)\n",
    "            except Exception as e:\n",
    "                print(f\"Error processing file {file_name}: {e}\")\n",
    "                continue\n",
    "\n",
    "    # 배열로 변환\n",
    "    if len(X) == 0 or len(y) == 0:\n",
    "        raise ValueError(\"No valid data found in the directory.\")\n",
    "\n",
    "    X = np.concatenate(X, axis=0)\n",
    "    y = np.concatenate(y, axis=0)\n",
    "\n",
    "    print(f\"Loaded dataset with shape: X={X.shape}, y={y.shape}\")\n",
    "\n",
    "    # 데이터 정규화 및 scaler 저장\n",
    "    scaler = MinMaxScaler()\n",
    "    original_shape = X.shape\n",
    "    X = X.reshape(-1, X.shape[-1])  # 2D로 변환 (샘플 수 x 채널 수)\n",
    "    X = scaler.fit_transform(X)  # 정규화\n",
    "    X = X.reshape(original_shape)  # 원래 형태로 복원\n",
    "\n",
    "    # Scaler 저장\n",
    "    joblib.dump(scaler, scaler_path)\n",
    "    print(f\"Scaler saved to {scaler_path}\")\n",
    "\n",
    "    return X, y"
   ]
  },
  {
   "cell_type": "code",
   "execution_count": 39,
   "id": "6e9bbf4b-56a3-4fe3-b918-6e64e75f3517",
   "metadata": {},
   "outputs": [],
   "source": [
    "def create_cnn(input_shape, num_classes):\n",
    "    \"\"\"\n",
    "    CNN 모델 정의.\n",
    "    \"\"\"\n",
    "    model = models.Sequential()\n",
    "\n",
    "    # Input Layer\n",
    "    model.add(layers.Input(shape=input_shape))\n",
    "\n",
    "    # Conv2D 레이어\n",
    "    model.add(layers.Conv2D(32, (3, 3), activation='relu'))\n",
    "    model.add(layers.MaxPooling2D((2, 1)))\n",
    "    model.add(layers.Conv2D(64, (3, 3), activation='relu'))\n",
    "    model.add(layers.MaxPooling2D((2, 1)))\n",
    "\n",
    "    # Fully Connected Layer\n",
    "    model.add(layers.Flatten())\n",
    "    model.add(layers.Dense(128, activation='relu'))\n",
    "    model.add(layers.Dropout(0.5))\n",
    "    model.add(layers.Dense(num_classes, activation='softmax'))\n",
    "\n",
    "    # 모델 컴파일\n",
    "    model.compile(optimizer='adam', loss='sparse_categorical_crossentropy', metrics=['accuracy'])\n",
    "    return model\n"
   ]
  },
  {
   "cell_type": "code",
   "execution_count": 41,
   "id": "ef4d9f6e-3890-40b5-aee3-445563888e7b",
   "metadata": {},
   "outputs": [],
   "source": [
    "# Step 6: 데이터 경로 및 파라미터 설정\n",
    "data_dir = \"../data\"  # 데이터 디렉토리 경로\n",
    "time_steps = 10  # 시간축 RMS 값 개수 (1초에 10개 RMS 값)\n",
    "scaler_path = \"scaler.pkl\"  # Scaler 저장 경로"
   ]
  },
  {
   "cell_type": "code",
   "execution_count": 43,
   "id": "892582c3-ede9-499e-bcd2-73ba799ee910",
   "metadata": {},
   "outputs": [
    {
     "name": "stdout",
     "output_type": "stream",
     "text": [
      "Skipping file with invalid name format: rms.txt\n",
      "Loaded dataset with shape: X=(11892, 10, 8), y=(11892,)\n",
      "Scaler saved to scaler_jae.pkl\n"
     ]
    }
   ],
   "source": [
    "# Step 7: 데이터 로드 및 정규화\n",
    "X, y = load_and_save_dataset(data_dir, time_steps, scaler_path)"
   ]
  },
  {
   "cell_type": "code",
   "execution_count": 45,
   "id": "e61a7bb8-68a7-492a-8ff2-05bbafe95c2d",
   "metadata": {},
   "outputs": [],
   "source": [
    "# CNN 입력 형태로 변환\n",
    "X = X[..., np.newaxis]  # (샘플 수, Time Steps, Channels, Depth)"
   ]
  },
  {
   "cell_type": "code",
   "execution_count": 47,
   "id": "05a63620-9a90-493c-87ca-8af7e1e2ac8b",
   "metadata": {},
   "outputs": [],
   "source": [
    "# 데이터 분할\n",
    "X_train, X_test, y_train, y_test = train_test_split(X, y, test_size=0.3, stratify=y)"
   ]
  },
  {
   "cell_type": "code",
   "execution_count": 49,
   "id": "09b3ae8d-4a63-4b26-8876-fcb4d000a642",
   "metadata": {},
   "outputs": [],
   "source": [
    "# Step 8: CNN 모델 생성\n",
    "input_shape = (time_steps, X.shape[2], 1)  # (Time Steps, 채널 수, Depth)\n",
    "num_classes = len(set(y))\n",
    "model = create_cnn(input_shape, num_classes)"
   ]
  },
  {
   "cell_type": "code",
   "execution_count": 51,
   "id": "71d68ba9-9351-4389-9ef5-1bd3395e326b",
   "metadata": {},
   "outputs": [
    {
     "name": "stdout",
     "output_type": "stream",
     "text": [
      "Epoch 1/20\n",
      "\u001b[1m261/261\u001b[0m \u001b[32m━━━━━━━━━━━━━━━━━━━━\u001b[0m\u001b[37m\u001b[0m \u001b[1m3s\u001b[0m 4ms/step - accuracy: 0.4553 - loss: 1.6261 - val_accuracy: 0.9476 - val_loss: 0.2264\n",
      "Epoch 2/20\n",
      "\u001b[1m261/261\u001b[0m \u001b[32m━━━━━━━━━━━━━━━━━━━━\u001b[0m\u001b[37m\u001b[0m \u001b[1m1s\u001b[0m 3ms/step - accuracy: 0.9146 - loss: 0.3114 - val_accuracy: 0.9661 - val_loss: 0.1222\n",
      "Epoch 3/20\n",
      "\u001b[1m261/261\u001b[0m \u001b[32m━━━━━━━━━━━━━━━━━━━━\u001b[0m\u001b[37m\u001b[0m \u001b[1m1s\u001b[0m 3ms/step - accuracy: 0.9428 - loss: 0.1997 - val_accuracy: 0.9658 - val_loss: 0.1014\n",
      "Epoch 4/20\n",
      "\u001b[1m261/261\u001b[0m \u001b[32m━━━━━━━━━━━━━━━━━━━━\u001b[0m\u001b[37m\u001b[0m \u001b[1m1s\u001b[0m 3ms/step - accuracy: 0.9561 - loss: 0.1439 - val_accuracy: 0.9737 - val_loss: 0.0811\n",
      "Epoch 5/20\n",
      "\u001b[1m261/261\u001b[0m \u001b[32m━━━━━━━━━━━━━━━━━━━━\u001b[0m\u001b[37m\u001b[0m \u001b[1m1s\u001b[0m 2ms/step - accuracy: 0.9576 - loss: 0.1274 - val_accuracy: 0.9767 - val_loss: 0.0708\n",
      "Epoch 6/20\n",
      "\u001b[1m261/261\u001b[0m \u001b[32m━━━━━━━━━━━━━━━━━━━━\u001b[0m\u001b[37m\u001b[0m \u001b[1m1s\u001b[0m 2ms/step - accuracy: 0.9655 - loss: 0.1093 - val_accuracy: 0.9773 - val_loss: 0.0642\n",
      "Epoch 7/20\n",
      "\u001b[1m261/261\u001b[0m \u001b[32m━━━━━━━━━━━━━━━━━━━━\u001b[0m\u001b[37m\u001b[0m \u001b[1m1s\u001b[0m 3ms/step - accuracy: 0.9628 - loss: 0.1109 - val_accuracy: 0.9801 - val_loss: 0.0564\n",
      "Epoch 8/20\n",
      "\u001b[1m261/261\u001b[0m \u001b[32m━━━━━━━━━━━━━━━━━━━━\u001b[0m\u001b[37m\u001b[0m \u001b[1m1s\u001b[0m 3ms/step - accuracy: 0.9675 - loss: 0.1035 - val_accuracy: 0.9818 - val_loss: 0.0523\n",
      "Epoch 9/20\n",
      "\u001b[1m261/261\u001b[0m \u001b[32m━━━━━━━━━━━━━━━━━━━━\u001b[0m\u001b[37m\u001b[0m \u001b[1m1s\u001b[0m 2ms/step - accuracy: 0.9711 - loss: 0.0865 - val_accuracy: 0.9821 - val_loss: 0.0457\n",
      "Epoch 10/20\n",
      "\u001b[1m261/261\u001b[0m \u001b[32m━━━━━━━━━━━━━━━━━━━━\u001b[0m\u001b[37m\u001b[0m \u001b[1m1s\u001b[0m 3ms/step - accuracy: 0.9699 - loss: 0.0852 - val_accuracy: 0.9818 - val_loss: 0.0457\n",
      "Epoch 11/20\n",
      "\u001b[1m261/261\u001b[0m \u001b[32m━━━━━━━━━━━━━━━━━━━━\u001b[0m\u001b[37m\u001b[0m \u001b[1m1s\u001b[0m 3ms/step - accuracy: 0.9729 - loss: 0.0743 - val_accuracy: 0.9849 - val_loss: 0.0391\n",
      "Epoch 12/20\n",
      "\u001b[1m261/261\u001b[0m \u001b[32m━━━━━━━━━━━━━━━━━━━━\u001b[0m\u001b[37m\u001b[0m \u001b[1m1s\u001b[0m 3ms/step - accuracy: 0.9784 - loss: 0.0678 - val_accuracy: 0.9795 - val_loss: 0.0566\n",
      "Epoch 13/20\n",
      "\u001b[1m261/261\u001b[0m \u001b[32m━━━━━━━━━━━━━━━━━━━━\u001b[0m\u001b[37m\u001b[0m \u001b[1m1s\u001b[0m 3ms/step - accuracy: 0.9769 - loss: 0.0722 - val_accuracy: 0.9851 - val_loss: 0.0373\n",
      "Epoch 14/20\n",
      "\u001b[1m261/261\u001b[0m \u001b[32m━━━━━━━━━━━━━━━━━━━━\u001b[0m\u001b[37m\u001b[0m \u001b[1m1s\u001b[0m 3ms/step - accuracy: 0.9808 - loss: 0.0594 - val_accuracy: 0.9857 - val_loss: 0.0354\n",
      "Epoch 15/20\n",
      "\u001b[1m261/261\u001b[0m \u001b[32m━━━━━━━━━━━━━━━━━━━━\u001b[0m\u001b[37m\u001b[0m \u001b[1m1s\u001b[0m 3ms/step - accuracy: 0.9779 - loss: 0.0642 - val_accuracy: 0.9874 - val_loss: 0.0322\n",
      "Epoch 16/20\n",
      "\u001b[1m261/261\u001b[0m \u001b[32m━━━━━━━━━━━━━━━━━━━━\u001b[0m\u001b[37m\u001b[0m \u001b[1m1s\u001b[0m 3ms/step - accuracy: 0.9769 - loss: 0.0619 - val_accuracy: 0.9865 - val_loss: 0.0395\n",
      "Epoch 17/20\n",
      "\u001b[1m261/261\u001b[0m \u001b[32m━━━━━━━━━━━━━━━━━━━━\u001b[0m\u001b[37m\u001b[0m \u001b[1m1s\u001b[0m 3ms/step - accuracy: 0.9826 - loss: 0.0490 - val_accuracy: 0.9899 - val_loss: 0.0251\n",
      "Epoch 18/20\n",
      "\u001b[1m261/261\u001b[0m \u001b[32m━━━━━━━━━━━━━━━━━━━━\u001b[0m\u001b[37m\u001b[0m \u001b[1m1s\u001b[0m 3ms/step - accuracy: 0.9829 - loss: 0.0463 - val_accuracy: 0.9905 - val_loss: 0.0238\n",
      "Epoch 19/20\n",
      "\u001b[1m261/261\u001b[0m \u001b[32m━━━━━━━━━━━━━━━━━━━━\u001b[0m\u001b[37m\u001b[0m \u001b[1m2s\u001b[0m 4ms/step - accuracy: 0.9802 - loss: 0.0478 - val_accuracy: 0.9933 - val_loss: 0.0196\n",
      "Epoch 20/20\n",
      "\u001b[1m261/261\u001b[0m \u001b[32m━━━━━━━━━━━━━━━━━━━━\u001b[0m\u001b[37m\u001b[0m \u001b[1m1s\u001b[0m 3ms/step - accuracy: 0.9860 - loss: 0.0402 - val_accuracy: 0.9843 - val_loss: 0.0358\n"
     ]
    },
    {
     "name": "stderr",
     "output_type": "stream",
     "text": [
      "WARNING:absl:You are saving your model as an HDF5 file via `model.save()` or `keras.saving.save_model(model)`. This file format is considered legacy. We recommend using instead the native Keras format, e.g. `model.save('my_model.keras')` or `keras.saving.save_model(model, 'my_model.keras')`. \n"
     ]
    },
    {
     "name": "stdout",
     "output_type": "stream",
     "text": [
      "Epoch 1/20:\n",
      " - Train Accuracy: 0.6710, Validation Accuracy: 0.9476\n",
      " - Train Loss: 1.0135, Validation Loss: 0.2264\n",
      "Epoch 2/20:\n",
      " - Train Accuracy: 0.9252, Validation Accuracy: 0.9661\n",
      " - Train Loss: 0.2682, Validation Loss: 0.1222\n",
      "Epoch 3/20:\n",
      " - Train Accuracy: 0.9419, Validation Accuracy: 0.9658\n",
      " - Train Loss: 0.1886, Validation Loss: 0.1014\n",
      "Epoch 4/20:\n",
      " - Train Accuracy: 0.9557, Validation Accuracy: 0.9737\n",
      " - Train Loss: 0.1498, Validation Loss: 0.0811\n",
      "Epoch 5/20:\n",
      " - Train Accuracy: 0.9572, Validation Accuracy: 0.9767\n",
      " - Train Loss: 0.1286, Validation Loss: 0.0708\n",
      "Epoch 6/20:\n",
      " - Train Accuracy: 0.9634, Validation Accuracy: 0.9773\n",
      " - Train Loss: 0.1111, Validation Loss: 0.0642\n",
      "Epoch 7/20:\n",
      " - Train Accuracy: 0.9658, Validation Accuracy: 0.9801\n",
      " - Train Loss: 0.1021, Validation Loss: 0.0564\n",
      "Epoch 8/20:\n",
      " - Train Accuracy: 0.9704, Validation Accuracy: 0.9818\n",
      " - Train Loss: 0.0926, Validation Loss: 0.0523\n",
      "Epoch 9/20:\n",
      " - Train Accuracy: 0.9724, Validation Accuracy: 0.9821\n",
      " - Train Loss: 0.0809, Validation Loss: 0.0457\n",
      "Epoch 10/20:\n",
      " - Train Accuracy: 0.9735, Validation Accuracy: 0.9818\n",
      " - Train Loss: 0.0775, Validation Loss: 0.0457\n",
      "Epoch 11/20:\n",
      " - Train Accuracy: 0.9741, Validation Accuracy: 0.9849\n",
      " - Train Loss: 0.0756, Validation Loss: 0.0391\n",
      "Epoch 12/20:\n",
      " - Train Accuracy: 0.9774, Validation Accuracy: 0.9795\n",
      " - Train Loss: 0.0646, Validation Loss: 0.0566\n",
      "Epoch 13/20:\n",
      " - Train Accuracy: 0.9773, Validation Accuracy: 0.9851\n",
      " - Train Loss: 0.0662, Validation Loss: 0.0373\n",
      "Epoch 14/20:\n",
      " - Train Accuracy: 0.9802, Validation Accuracy: 0.9857\n",
      " - Train Loss: 0.0573, Validation Loss: 0.0354\n",
      "Epoch 15/20:\n",
      " - Train Accuracy: 0.9797, Validation Accuracy: 0.9874\n",
      " - Train Loss: 0.0567, Validation Loss: 0.0322\n",
      "Epoch 16/20:\n",
      " - Train Accuracy: 0.9779, Validation Accuracy: 0.9865\n",
      " - Train Loss: 0.0582, Validation Loss: 0.0395\n",
      "Epoch 17/20:\n",
      " - Train Accuracy: 0.9838, Validation Accuracy: 0.9899\n",
      " - Train Loss: 0.0461, Validation Loss: 0.0251\n",
      "Epoch 18/20:\n",
      " - Train Accuracy: 0.9820, Validation Accuracy: 0.9905\n",
      " - Train Loss: 0.0523, Validation Loss: 0.0238\n",
      "Epoch 19/20:\n",
      " - Train Accuracy: 0.9822, Validation Accuracy: 0.9933\n",
      " - Train Loss: 0.0471, Validation Loss: 0.0196\n",
      "Epoch 20/20:\n",
      " - Train Accuracy: 0.9855, Validation Accuracy: 0.9843\n",
      " - Train Loss: 0.0420, Validation Loss: 0.0358\n",
      "Model saved to cnn_model_final.h5\n"
     ]
    },
    {
     "data": {
      "image/png": "[encoded data removed]",
      "text/plain": [
       "<Figure size 640x480 with 1 Axes>"
      ]
     },
     "metadata": {},
     "output_type": "display_data"
    },
    {
     "data": {
      "image/png": "[encoded data removed]",
      "text/plain": [
       "<Figure size 640x480 with 1 Axes>"
      ]
     },
     "metadata": {},
     "output_type": "display_data"
    }
   ],
   "source": [
    "# Step 9: 모델 학습\n",
    "history = model.fit(\n",
    "    X_train, y_train,\n",
    "    validation_data=(X_test, y_test),\n",
    "    epochs=20,\n",
    "    batch_size=32,\n",
    "    verbose=1\n",
    ")\n",
    "\n",
    "# 에폭마다의 상황 출력\n",
    "for epoch in range(len(history.history['accuracy'])):\n",
    "    train_acc = history.history['accuracy'][epoch]\n",
    "    val_acc = history.history['val_accuracy'][epoch]\n",
    "    train_loss = history.history['loss'][epoch]\n",
    "    val_loss = history.history['val_loss'][epoch]\n",
    "    print(f\"Epoch {epoch + 1}/{len(history.history['accuracy'])}:\")\n",
    "    print(f\" - Train Accuracy: {train_acc:.4f}, Validation Accuracy: {val_acc:.4f}\")\n",
    "    print(f\" - Train Loss: {train_loss:.4f}, Validation Loss: {val_loss:.4f}\")\n",
    "\n",
    "# 모델 저장\n",
    "model.save(\"cnn_model.h5\")\n",
    "print(\"Model saved to cnn_model.h5\")\n",
    "\n",
    "# 그래프 출력\n",
    "import matplotlib.pyplot as plt\n",
    "\n",
    "# 학습 정확도와 검증 정확도 시각화\n",
    "plt.figure()\n",
    "plt.plot(history.history['accuracy'], label='Train Accuracy')\n",
    "plt.plot(history.history['val_accuracy'], label='Validation Accuracy')\n",
    "plt.xlabel('Epochs')\n",
    "plt.ylabel('Accuracy')\n",
    "plt.title('Model Accuracy')\n",
    "plt.legend()\n",
    "plt.show()\n",
    "\n",
    "# 학습 손실과 검증 손실 시각화\n",
    "plt.figure()\n",
    "plt.plot(history.history['loss'], label='Train Loss')\n",
    "plt.plot(history.history['val_loss'], label='Validation Loss')\n",
    "plt.xlabel('Epochs')\n",
    "plt.ylabel('Loss')\n",
    "plt.title('Model Loss')\n",
    "plt.legend()\n",
    "plt.show()\n"
   ]
  },
  {
   "cell_type": "code",
   "execution_count": 53,
   "id": "13dfa6bd-3afc-478b-a94b-fa55e99b55fd",
   "metadata": {},
   "outputs": [
    {
     "name": "stdout",
     "output_type": "stream",
     "text": [
      "112/112 - 0s - 2ms/step - accuracy: 0.9843 - loss: 0.0358\n",
      "Test Accuracy: 98.43%\n"
     ]
    }
   ],
   "source": [
    "# Step 10: 모델 평가\n",
    "test_loss, test_acc = model.evaluate(X_test, y_test, verbose=2)\n",
    "print(f\"Test Accuracy: {test_acc * 100:.2f}%\")"
   ]
  },
  {
   "cell_type": "code",
   "execution_count": 55,
   "id": "bfabfbf6-3585-4792-8729-48efa0b39e28",
   "metadata": {},
   "outputs": [
    {
     "name": "stdout",
     "output_type": "stream",
     "text": [
      "Final Training Accuracy: 98.55%\n",
      "Final Validation Accuracy: 98.43%\n",
      "Final Training Loss: 0.0420\n",
      "Final Validation Loss: 0.0358\n",
      "No significant overfitting detected.\n"
     ]
    }
   ],
   "source": [
    "# 훈련 및 검증 정확도 비교\n",
    "train_acc = history.history['accuracy'][-1]  # 마지막 에폭의 훈련 정확도\n",
    "val_acc = history.history['val_accuracy'][-1]  # 마지막 에폭의 검증 정확도\n",
    "\n",
    "train_loss = history.history['loss'][-1]  # 마지막 에폭의 훈련 손실\n",
    "val_loss = history.history['val_loss'][-1]  # 마지막 에폭의 검증 손실\n",
    "\n",
    "print(f\"Final Training Accuracy: {train_acc * 100:.2f}%\")\n",
    "print(f\"Final Validation Accuracy: {val_acc * 100:.2f}%\")\n",
    "print(f\"Final Training Loss: {train_loss:.4f}\")\n",
    "print(f\"Final Validation Loss: {val_loss:.4f}\")\n",
    "\n",
    "# 과적합 여부 판별\n",
    "if val_acc < train_acc and (train_acc - val_acc) > 0.05:\n",
    "    print(\"Potential Overfitting Detected: Training accuracy is significantly higher than validation accuracy.\")\n",
    "else:\n",
    "    print(\"No significant overfitting detected.\")"
   ]
  },
  {
   "cell_type": "code",
   "execution_count": null,
   "id": "7f4964fb-a6be-4bc8-82a3-5ed522a1bdb2",
   "metadata": {},
   "outputs": [],
   "source": []
  }
 ],
 "metadata": {
  "kernelspec": {
   "display_name": "Python 3 (ipykernel)",
   "language": "python",
   "name": "python3"
  },
  "language_info": {
   "codemirror_mode": {
    "name": "ipython",
    "version": 3
   },
   "file_extension": ".py",
   "mimetype": "text/x-python",
   "name": "python",
   "nbconvert_exporter": "python",
   "pygments_lexer": "ipython3",
   "version": "3.12.4"
  }
 },
 "nbformat": 4,
 "nbformat_minor": 5
}
